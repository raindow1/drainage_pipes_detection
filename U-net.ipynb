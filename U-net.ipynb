{
 "cells": [
  {
   "cell_type": "markdown",
   "id": "c818f514-9fab-4dfd-a649-8af577aff77e",
   "metadata": {},
   "source": [
    "## Импорт необходимых библиотек"
   ]
  },
  {
   "cell_type": "code",
   "execution_count": 1,
   "id": "ff0e000c-14e5-4e62-b72e-3751ddc317aa",
   "metadata": {},
   "outputs": [],
   "source": [
    "import os\n",
    "import torch\n",
    "import torch.nn as nn\n",
    "import torch.optim as optim\n",
    "from torch.utils.data import Dataset, DataLoader, Subset\n",
    "from torchvision import transforms\n",
    "from PIL import Image\n",
    "import numpy as np\n",
    "import matplotlib.pyplot as plt\n",
    "import random"
   ]
  },
  {
   "cell_type": "markdown",
   "id": "c3d1f0bf-26df-4347-8f1b-6a10ad29b79a",
   "metadata": {},
   "source": [
    "## Конфигурация PyTorch"
   ]
  },
  {
   "cell_type": "code",
   "execution_count": 2,
   "id": "2c1ab5cc-fb8f-4662-93e4-56543a96e01a",
   "metadata": {},
   "outputs": [
    {
     "name": "stdout",
     "output_type": "stream",
     "text": [
      "PyTorch version: 2.7.0+cu128\n",
      "CUDA available: True\n",
      "CUDA devices: 1\n",
      "Current CUDA device: 0\n",
      "Device name: NVIDIA GeForce RTX 4070\n"
     ]
    }
   ],
   "source": [
    "device = torch.device(\"cuda\" if torch.cuda.is_available() else \"cpu\")\n",
    "print(f\"PyTorch version: {torch.__version__}\")\n",
    "print(f\"CUDA available: {torch.cuda.is_available()}\")\n",
    "print(f\"CUDA devices: {torch.cuda.device_count()}\")\n",
    "print(f\"Current CUDA device: {torch.cuda.current_device()}\")\n",
    "print(f\"Device name: {torch.cuda.get_device_name(0)}\")"
   ]
  },
  {
   "cell_type": "code",
   "execution_count": 3,
   "id": "22240629-35a0-4141-9ca6-2066210b2392",
   "metadata": {},
   "outputs": [],
   "source": [
    "# Параметры модели\n",
    "DATA_PATH = \"dataset\" # Путь датасета\n",
    "BATCH_SIZE = 16 # Размер батча\n",
    "EPOCHS = 10 # Количество эпох\n",
    "LR = 0.001 # Learning rate\n",
    "IMG_SIZE = 64 # Размер входных изображений"
   ]
  },
  {
   "cell_type": "markdown",
   "id": "2c694acc-93f0-4d17-8c8b-78ca9edf5986",
   "metadata": {},
   "source": [
    "## Класс, описывающий датасет"
   ]
  },
  {
   "cell_type": "code",
   "execution_count": 4,
   "id": "940c6a9d-197c-406b-bd4e-c7d5cdb0579b",
   "metadata": {},
   "outputs": [],
   "source": [
    "class SegmentationDataset(Dataset):\n",
    "    def __init__(self, image_dir, mask_dir, transform=None):\n",
    "        self.image_dir = image_dir\n",
    "        self.mask_dir = mask_dir\n",
    "        self.transform = transform\n",
    "        self.images = sorted(os.listdir(image_dir))\n",
    "        \n",
    "        self.empty_indices = []\n",
    "        self.non_empty_indices = []\n",
    "        \n",
    "        for idx, img_name in enumerate(self.images):\n",
    "            mask_path = os.path.join(self.mask_dir, img_name)\n",
    "            mask = np.array(Image.open(mask_path).convert(\"L\"))\n",
    "            if np.all(mask == 0):\n",
    "                self.empty_indices.append(idx)\n",
    "            else:\n",
    "                self.non_empty_indices.append(idx)\n",
    "        \n",
    "        print(f\"Total: {len(self.images)} images\")\n",
    "        print(f\"Mask statistics: {len(self.empty_indices)} empty, {len(self.non_empty_indices)} non-empty\")\n",
    "        \n",
    "    def __len__(self):\n",
    "        return len(self.images)\n",
    "    \n",
    "    def __getitem__(self, idx):\n",
    "        img_path = os.path.join(self.image_dir, self.images[idx])\n",
    "        mask_path = os.path.join(self.mask_dir, self.images[idx])\n",
    "        \n",
    "        image = Image.open(img_path).convert(\"RGB\")\n",
    "        mask = Image.open(mask_path).convert(\"L\")\n",
    "        \n",
    "        if self.transform:\n",
    "            image = self.transform(image)\n",
    "            mask = self.transform(mask)\n",
    "        \n",
    "        return image, mask"
   ]
  },
  {
   "cell_type": "markdown",
   "id": "03387acb-e822-4456-8075-b68d15e29f06",
   "metadata": {},
   "source": [
    "## Аугментация данных"
   ]
  },
  {
   "cell_type": "code",
   "execution_count": 5,
   "id": "4e79813e-8b88-445b-9742-59211a17149f",
   "metadata": {},
   "outputs": [],
   "source": [
    "# Аугментация данных\n",
    "transform = transforms.Compose([\n",
    "    transforms.Resize((IMG_SIZE, IMG_SIZE)),\n",
    "    transforms.ToTensor(),\n",
    "    transforms.RandomHorizontalFlip(p=0.5),\n",
    "    transforms.RandomVerticalFlip(p=0.5),\n",
    "])"
   ]
  },
  {
   "cell_type": "markdown",
   "id": "30a4eaa8-e0f5-4b24-80cc-c92614733daa",
   "metadata": {},
   "source": [
    "## Загрузка датасета"
   ]
  },
  {
   "cell_type": "code",
   "execution_count": 6,
   "id": "9082920f-f37f-4779-90e2-fae5571d0def",
   "metadata": {},
   "outputs": [
    {
     "name": "stdout",
     "output_type": "stream",
     "text": [
      "Total: 17408 images\n",
      "Mask statistics: 13435 empty, 3973 non-empty\n"
     ]
    }
   ],
   "source": [
    "# Загрузка полного датасета\n",
    "full_dataset = SegmentationDataset(\n",
    "    image_dir=os.path.join(DATA_PATH, \"images\"),\n",
    "    mask_dir=os.path.join(DATA_PATH, \"masks\"),\n",
    "    transform=transform\n",
    ")\n"
   ]
  },
  {
   "cell_type": "markdown",
   "id": "b85733fa-b88d-4bea-9fb5-e20e7f283b22",
   "metadata": {},
   "source": [
    "## Балансировка классов"
   ]
  },
  {
   "cell_type": "code",
   "execution_count": 7,
   "id": "e9e48d16-9739-4e6e-b866-319e0e1b334e",
   "metadata": {},
   "outputs": [],
   "source": [
    "# Создание сбалансированного списка индексов\n",
    "empty = full_dataset.empty_indices\n",
    "non_empty = full_dataset.non_empty_indices\n",
    "random.shuffle(empty)\n",
    "random.shuffle(non_empty)\n",
    "\n",
    "min_count = min(len(empty), len(non_empty))\n",
    "balanced_indices = empty + non_empty\n",
    "random.shuffle(balanced_indices)"
   ]
  },
  {
   "cell_type": "markdown",
   "id": "7984f871-9022-4d2c-b338-268ecb59b64e",
   "metadata": {},
   "source": [
    "## Разделение на обучающую и тестовую выборку, загрузка данных"
   ]
  },
  {
   "cell_type": "code",
   "execution_count": 8,
   "id": "65cae984-7f19-47c5-ab1b-2eefcf952ecd",
   "metadata": {},
   "outputs": [],
   "source": [
    "# Разделение на обучающую и тестовую выборку\n",
    "split_idx = int(0.8 * len(balanced_indices))\n",
    "train_indices = balanced_indices[:split_idx]\n",
    "test_indices = balanced_indices[split_idx:]\n",
    "\n",
    "train_subset = Subset(full_dataset, train_indices)\n",
    "test_subset = Subset(full_dataset, test_indices)\n",
    "\n",
    "train_loader = DataLoader(train_subset, batch_size=BATCH_SIZE, shuffle=True)\n",
    "test_loader = DataLoader(test_subset, batch_size=BATCH_SIZE)"
   ]
  },
  {
   "cell_type": "markdown",
   "id": "6cd13a3e-e549-4adb-b88d-4525c40a0ce7",
   "metadata": {},
   "source": [
    "## Функция по расчету необходимых метрик"
   ]
  },
  {
   "cell_type": "code",
   "execution_count": 9,
   "id": "3bb6dbbd-0a7a-4e17-8ce9-86a575b8fdf4",
   "metadata": {},
   "outputs": [],
   "source": [
    "# Метрики\n",
    "def calculate_metrics(outputs, masks, threshold=0.5):\n",
    "    outputs = (outputs > threshold).float()\n",
    "    masks = (masks > 0.5).float()\n",
    "    batch_ious, batch_dices = [], []\n",
    "\n",
    "    for i in range(outputs.shape[0]):\n",
    "        output = outputs[i]\n",
    "        mask = masks[i]\n",
    "        intersection = (output * mask).sum()\n",
    "        union = (output + mask).sum() - intersection\n",
    "        total = output.sum() + mask.sum()\n",
    "        iou = (intersection / union).item() if union != 0 else float(output.sum() == 0 and mask.sum() == 0)\n",
    "        dice = (2. * intersection / total).item() if total != 0 else 1.0\n",
    "        batch_ious.append(iou)\n",
    "        batch_dices.append(dice)\n",
    "\n",
    "    return np.mean(batch_ious), np.mean(batch_dices)"
   ]
  },
  {
   "cell_type": "markdown",
   "id": "8d8468b8-d994-46ed-846c-6914ccaf070e",
   "metadata": {},
   "source": [
    "## Модель U-net"
   ]
  },
  {
   "cell_type": "code",
   "execution_count": 10,
   "id": "ace12a9c-5bac-475a-ae00-45a6e805a85b",
   "metadata": {},
   "outputs": [],
   "source": [
    "# Обучение\n",
    "device = torch.device(\"cuda\" if torch.cuda.is_available() else \"cpu\")\n",
    "\n",
    "import torch\n",
    "import torch.nn as nn\n",
    "\n",
    "class UNetSM(nn.Module):\n",
    "    def __init__(self, in_channels=3, out_channels=1, init_features=32):\n",
    "        super(UNetSM, self).__init__()\n",
    "        \n",
    "        features = init_features\n",
    "        self.encoder1 = UNetSM._block(in_channels, features, name=\"enc1\")\n",
    "        self.pool1 = nn.MaxPool2d(kernel_size=2, stride=2)\n",
    "        self.encoder2 = UNetSM._block(features, features * 2, name=\"enc2\")\n",
    "        self.pool2 = nn.MaxPool2d(kernel_size=2, stride=2)\n",
    "        self.encoder3 = UNetSM._block(features * 2, features * 4, name=\"enc3\")\n",
    "        self.pool3 = nn.MaxPool2d(kernel_size=2, stride=2)\n",
    "        self.encoder4 = UNetSM._block(features * 4, features * 8, name=\"enc4\")\n",
    "        self.pool4 = nn.MaxPool2d(kernel_size=2, stride=2)\n",
    "\n",
    "        self.bottleneck = UNetSM._block(features * 8, features * 16, name=\"bottleneck\")\n",
    "\n",
    "        self.upconv4 = nn.ConvTranspose2d(features * 16, features * 8, kernel_size=2, stride=2)\n",
    "        self.decoder4 = UNetSM._block((features * 8) * 2, features * 8, name=\"dec4\")\n",
    "        self.upconv3 = nn.ConvTranspose2d(features * 8, features * 4, kernel_size=2, stride=2)\n",
    "        self.decoder3 = UNetSM._block((features * 4) * 2, features * 4, name=\"dec3\")\n",
    "        self.upconv2 = nn.ConvTranspose2d(features * 4, features * 2, kernel_size=2, stride=2)\n",
    "        self.decoder2 = UNetSM._block((features * 2) * 2, features * 2, name=\"dec2\")\n",
    "        self.upconv1 = nn.ConvTranspose2d(features * 2, features, kernel_size=2, stride=2)\n",
    "        self.decoder1 = UNetSM._block(features * 2, features, name=\"dec1\")\n",
    "\n",
    "        self.conv = nn.Conv2d(in_channels=features, out_channels=out_channels, kernel_size=1)\n",
    "\n",
    "    def forward(self, x):\n",
    "        enc1 = self.encoder1(x)\n",
    "        enc2 = self.encoder2(self.pool1(enc1))\n",
    "        enc3 = self.encoder3(self.pool2(enc2))\n",
    "        enc4 = self.encoder4(self.pool3(enc3))\n",
    "\n",
    "        bottleneck = self.bottleneck(self.pool4(enc4))\n",
    "\n",
    "        dec4 = self.upconv4(bottleneck)\n",
    "        dec4 = torch.cat((dec4, enc4), dim=1)\n",
    "        dec4 = self.decoder4(dec4)\n",
    "\n",
    "        dec3 = self.upconv3(dec4)\n",
    "        dec3 = torch.cat((dec3, enc3), dim=1)\n",
    "        dec3 = self.decoder3(dec3)\n",
    "\n",
    "        dec2 = self.upconv2(dec3)\n",
    "        dec2 = torch.cat((dec2, enc2), dim=1)\n",
    "        dec2 = self.decoder2(dec2)\n",
    "\n",
    "        dec1 = self.upconv1(dec2)\n",
    "        dec1 = torch.cat((dec1, enc1), dim=1)\n",
    "        dec1 = self.decoder1(dec1)\n",
    "\n",
    "        return torch.sigmoid(self.conv(dec1))\n",
    "\n",
    "    @staticmethod\n",
    "    def _block(in_channels, features, name):\n",
    "        return nn.Sequential(\n",
    "            nn.Conv2d(in_channels=in_channels, out_channels=features, kernel_size=3, padding=1, bias=False),\n",
    "            nn.BatchNorm2d(num_features=features),\n",
    "            nn.ReLU(inplace=True),\n",
    "            nn.Conv2d(in_channels=features, out_channels=features, kernel_size=3, padding=1, bias=False),\n",
    "            nn.BatchNorm2d(num_features=features),\n",
    "            nn.ReLU(inplace=True),\n",
    "        )"
   ]
  },
  {
   "cell_type": "markdown",
   "id": "9a5b9224-4968-4c23-a8e0-793036db7557",
   "metadata": {},
   "source": [
    "## Обучение"
   ]
  },
  {
   "cell_type": "code",
   "execution_count": 11,
   "id": "a670d845-52e7-4c1c-935c-535358ce28cd",
   "metadata": {},
   "outputs": [],
   "source": [
    "import matplotlib.pyplot as plt\n",
    "import numpy as np\n",
    "\n",
    "def plot_sample(images, masks, outputs, num_samples=3):\n",
    "    plt.figure(figsize=(15, 5 * num_samples))\n",
    "    for i in range(min(num_samples, len(images))):\n",
    "        # Исходное изображение\n",
    "        plt.subplot(num_samples, 3, i*3 + 1)\n",
    "        img = images[i].cpu().permute(1, 2, 0).numpy()\n",
    "        if img.shape[2] == 3:  # RGB\n",
    "            plt.imshow(img)\n",
    "        else:  # Grayscale\n",
    "            plt.imshow(img[:, :, 0], cmap='gray')\n",
    "        plt.title(f\"Input Image {i+1}\")\n",
    "        plt.axis('off')\n",
    "\n",
    "        # Истинная маска\n",
    "        plt.subplot(num_samples, 3, i*3 + 2)\n",
    "        true_mask = masks[i].cpu().squeeze().numpy()\n",
    "        plt.imshow(true_mask, cmap='gray')\n",
    "        plt.title(f\"True Mask {i+1}\")\n",
    "        plt.axis('off')\n",
    "\n",
    "        # Предсказанная маска (с пороговой бинаризацией)\n",
    "        plt.subplot(num_samples, 3, i*3 + 3)\n",
    "        pred_mask = torch.sigmoid(outputs[i]).gpu().squeeze().numpy()\n",
    "        pred_mask = (pred_mask > 0.5).astype(np.float32)  # Порог 0.5\n",
    "        plt.imshow(pred_mask, cmap='gray')\n",
    "        plt.title(f\"Predicted Mask {i+1}\")\n",
    "        plt.axis('off')\n",
    "\n",
    "    plt.tight_layout()\n",
    "    plt.show()"
   ]
  },
  {
   "cell_type": "code",
   "execution_count": 12,
   "id": "00677581-811f-4137-8504-7f120cc9f642",
   "metadata": {},
   "outputs": [
    {
     "name": "stdout",
     "output_type": "stream",
     "text": [
      "cuda\n",
      "Epoch 1/10\n",
      "Train Loss: 0.8741 | Test Loss: 0.8593\n",
      "IoU: 0.7752 | Dice: 0.7752\n",
      "------------------------\n",
      "Best modified_model saved at epoch 1 with IoU: 0.7752\n",
      "Epoch 2/10\n",
      "Train Loss: 0.8602 | Test Loss: 0.8529\n",
      "IoU: 0.7752 | Dice: 0.7752\n",
      "------------------------\n",
      "Epoch 3/10\n",
      "Train Loss: 0.8583 | Test Loss: 0.8585\n",
      "IoU: 0.7752 | Dice: 0.7752\n",
      "------------------------\n",
      "Epoch 4/10\n",
      "Train Loss: 0.8584 | Test Loss: 0.8549\n",
      "IoU: 0.7752 | Dice: 0.7752\n",
      "------------------------\n",
      "Epoch 5/10\n",
      "Train Loss: 0.8573 | Test Loss: 0.8549\n",
      "IoU: 0.7504 | Dice: 0.7524\n",
      "------------------------\n",
      "Epoch 6/10\n",
      "Train Loss: 0.8573 | Test Loss: 0.8541\n",
      "IoU: 0.7335 | Dice: 0.7423\n",
      "------------------------\n",
      "Epoch 7/10\n",
      "Train Loss: 0.8565 | Test Loss: 0.8528\n",
      "IoU: 0.7256 | Dice: 0.7346\n",
      "------------------------\n",
      "Epoch 8/10\n",
      "Train Loss: 0.8564 | Test Loss: 0.8529\n",
      "IoU: 0.7249 | Dice: 0.7351\n",
      "------------------------\n",
      "Epoch 9/10\n",
      "Train Loss: 0.8571 | Test Loss: 0.8524\n",
      "IoU: 0.7224 | Dice: 0.7328\n",
      "------------------------\n",
      "Epoch 10/10\n",
      "Train Loss: 0.8567 | Test Loss: 0.8511\n",
      "IoU: 0.7457 | Dice: 0.7494\n",
      "------------------------\n"
     ]
    }
   ],
   "source": [
    "\n",
    "model = UNetSM(in_channels=3, out_channels=1)\n",
    "\n",
    "# Создаем модель с дополнительными слоями\n",
    "print(device)\n",
    "modified_model = model.to(device)\n",
    "pos_weight = torch.tensor([10.0]).to(device)\n",
    "criterion = nn.BCEWithLogitsLoss(pos_weight=pos_weight)\n",
    "optimizer = optim.Adam(modified_model.parameters(), lr=LR, weight_decay=1e-5)\n",
    "\n",
    "train_losses, test_losses, ious, dices = [], [], [], []\n",
    "best_iou = -1\n",
    "\n",
    "for epoch in range(EPOCHS):\n",
    "    modified_model.train()\n",
    "    epoch_loss = 0\n",
    "    for images, masks in train_loader:\n",
    "        images, masks = images.to(device), masks.to(device)\n",
    "        optimizer.zero_grad()\n",
    "        outputs = modified_model(images)\n",
    "        loss = criterion(outputs, masks)\n",
    "        loss.backward()\n",
    "        optimizer.step()\n",
    "        epoch_loss += loss.item()\n",
    "\n",
    "    modified_model.eval()\n",
    "    test_loss = 0\n",
    "    epoch_ious, epoch_dices = [], []\n",
    "    with torch.no_grad():\n",
    "        for images, masks in test_loader:\n",
    "            images, masks = images.to(device), masks.to(device)\n",
    "            outputs = modified_model(images)\n",
    "            test_loss += criterion(outputs, masks).item()\n",
    "            \n",
    "            batch_iou, batch_dice = calculate_metrics(outputs, masks)\n",
    "            epoch_ious.append(batch_iou)\n",
    "            epoch_dices.append(batch_dice)\n",
    "\n",
    "    avg_iou = np.mean(epoch_ious)\n",
    "    avg_dice = np.mean(epoch_dices)\n",
    "    avg_test_loss = test_loss / len(test_loader)\n",
    "\n",
    "    train_losses.append(epoch_loss / len(train_loader))\n",
    "    test_losses.append(avg_test_loss)\n",
    "    ious.append(avg_iou)\n",
    "    dices.append(avg_dice)\n",
    "\n",
    "    print(f\"Epoch {epoch+1}/{EPOCHS}\")\n",
    "    print(f\"Train Loss: {train_losses[-1]:.4f} | Test Loss: {test_losses[-1]:.4f}\")\n",
    "    print(f\"IoU: {ious[-1]:.4f} | Dice: {dices[-1]:.4f}\")\n",
    "    print(\"------------------------\")\n",
    "    if avg_iou > best_iou:\n",
    "        best_iou = avg_iou\n",
    "        torch.save(modified_model.state_dict(), \"u-net.pth\")\n",
    "        print(f\"Best modified_model saved at epoch {epoch+1} with IoU: {avg_iou:.4f}\")\n",
    "\n"
   ]
  },
  {
   "cell_type": "markdown",
   "id": "8fa2cac1-a6ff-4857-a057-5839bbfe398f",
   "metadata": {},
   "source": [
    "## Графики"
   ]
  },
  {
   "cell_type": "code",
   "execution_count": 13,
   "id": "6783bfb8-ad75-47c1-b5a4-56be618bda49",
   "metadata": {},
   "outputs": [
    {
     "data": {
      "image/png": "[encoded data removed]",
      "text/plain": [
       "<Figure size 1500x500 with 3 Axes>"
      ]
     },
     "metadata": {},
     "output_type": "display_data"
    }
   ],
   "source": [
    "# Графики\n",
    "plt.figure(figsize=(15, 5))\n",
    "plt.subplot(131)\n",
    "plt.plot(train_losses, label='Train Loss')\n",
    "plt.plot(test_losses, label='Test Loss')\n",
    "plt.legend()\n",
    "plt.subplot(132)\n",
    "plt.plot(ious, label='IoU')\n",
    "plt.legend()\n",
    "plt.subplot(133)\n",
    "plt.plot(dices, label='Dice')\n",
    "plt.legend()\n",
    "plt.tight_layout()\n",
    "plt.show()"
   ]
  }
 ],
 "metadata": {
  "kernelspec": {
   "display_name": "Python 3 (ipykernel)",
   "language": "python",
   "name": "python3"
  },
  "language_info": {
   "codemirror_mode": {
    "name": "ipython",
    "version": 3
   },
   "file_extension": ".py",
   "mimetype": "text/x-python",
   "name": "python",
   "nbconvert_exporter": "python",
   "pygments_lexer": "ipython3",
   "version": "3.12.0"
  }
 },
 "nbformat": 4,
 "nbformat_minor": 5
}
